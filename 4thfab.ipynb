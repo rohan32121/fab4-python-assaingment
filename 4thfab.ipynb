{
 "cells": [
  {
   "cell_type": "code",
   "execution_count": 3,
   "id": "f0acbe9b-145b-41e1-a6c4-0cb260476835",
   "metadata": {},
   "outputs": [],
   "source": [
    "##create a python program to sort the given list of  tuples based on intenger value using a lamda function\n",
    "\n",
    "##[('Sachin Tendulker',34357),('Ricky Pointing', 27483),('Jack Kallis', 25534), ('Virat Kohli',24936)]"
   ]
  },
  {
   "cell_type": "code",
   "execution_count": 8,
   "id": "c98f25e0-2864-4643-a1e1-3da70aed5d2f",
   "metadata": {},
   "outputs": [
    {
     "name": "stdout",
     "output_type": "stream",
     "text": [
      "Original list of tuples:\n",
      "[('Sachin Tendulker', 34357), ('Ricky Pointing', 27483), ('Jack Kallis', 25534), ('Virat Kohli', 24936)]\n",
      "\n",
      "Sorting the List of Tuples:\n",
      "[('Virat Kohli', 24936), ('Jack Kallis', 25534), ('Ricky Pointing', 27483), ('Sachin Tendulker', 34357)]\n"
     ]
    }
   ],
   "source": [
    "cricketer_runs = [('Sachin Tendulker',34357), ('Ricky Pointing', 27483), ('Jack Kallis', 25534), ('Virat Kohli',24936)]\n",
    "print(\"Original list of tuples:\")\n",
    "print(cricketer_runs)\n",
    "cricketer_runs.sort(key = lambda x: x[1])\n",
    "print(\"\\nSorting the List of Tuples:\")\n",
    "print(cricketer_runs)\n"
   ]
  },
  {
   "cell_type": "code",
   "execution_count": 10,
   "id": "69343ecb-def3-4384-9a38-f61df89ba126",
   "metadata": {},
   "outputs": [
    {
     "data": {
      "text/plain": [
       "[1, 2, 3, 4, 5, 6, 7, 8, 9, 10]"
      ]
     },
     "execution_count": 10,
     "metadata": {},
     "output_type": "execute_result"
    }
   ],
   "source": [
    "##write a Python program to find the squares of all the numbers in the given list of intengers using lambdda and map function.\n",
    "[1,2,3,4,5,6,7,8,9,10]"
   ]
  },
  {
   "cell_type": "code",
   "execution_count": 24,
   "id": "64b8ce54-fd85-4a02-b8ac-d67cdc7c025c",
   "metadata": {},
   "outputs": [],
   "source": [
    "l = [1,2,3,4,5,6,7,8,9,10]"
   ]
  },
  {
   "cell_type": "code",
   "execution_count": 25,
   "id": "6c8f8774-92b9-4830-b055-b61f1af84f45",
   "metadata": {},
   "outputs": [],
   "source": [
    "def test (l):\n",
    "    l1 = []\n",
    "    for i in l:\n",
    "        l1.append(i**2)\n",
    "        return l1"
   ]
  },
  {
   "cell_type": "code",
   "execution_count": 26,
   "id": "e5c7504e-cfb4-449b-b00d-6cab60b2f038",
   "metadata": {},
   "outputs": [
    {
     "data": {
      "text/plain": [
       "[1]"
      ]
     },
     "execution_count": 26,
     "metadata": {},
     "output_type": "execute_result"
    }
   ],
   "source": [
    "test(l)"
   ]
  },
  {
   "cell_type": "code",
   "execution_count": 27,
   "id": "c6160845-423b-42f4-95cc-d544b3bfe268",
   "metadata": {},
   "outputs": [],
   "source": [
    "def sq(x):\n",
    "    return x**2"
   ]
  },
  {
   "cell_type": "code",
   "execution_count": 29,
   "id": "1bf917bb-fbbe-49cc-aa81-e10c2629a56e",
   "metadata": {},
   "outputs": [
    {
     "data": {
      "text/plain": [
       "[1, 4, 9, 16, 25, 36, 49, 64, 81, 100]"
      ]
     },
     "execution_count": 29,
     "metadata": {},
     "output_type": "execute_result"
    }
   ],
   "source": [
    "list(map(sq, l))"
   ]
  },
  {
   "cell_type": "code",
   "execution_count": 32,
   "id": "4269ec80-49ca-4502-a0a1-a144c3ada533",
   "metadata": {},
   "outputs": [],
   "source": [
    "##write a python proram to convert the given list of intengers into a tuple os strings. use map and lambda function.\n",
    "\n",
    "Given string: [1,2,3,4,5,6,7,8,9,10]\n",
    "Epected output: ('1','2','3','4','5','6','7','8','9','10')"
   ]
  },
  {
   "cell_type": "code",
   "execution_count": 42,
   "id": "76f7a4cb-59fb-40c1-8b44-678093615a87",
   "metadata": {},
   "outputs": [
    {
     "name": "stdout",
     "output_type": "stream",
     "text": [
      "Original list:\n",
      "[1, 2, 3, 4, 5, 6, 7, 8, 9, 10]\n",
      "\n",
      "List of strings:\n",
      "['1', '2', '3', '4', '5', '6', '7', '8', '9', '10']\n"
     ]
    }
   ],
   "source": [
    "nums_list = [1,2,3,4,5,6,7,8,9,10]\n",
    "print(\"Original list:\")\n",
    "print(nums_list)\n",
    "result_list = list(map(str,nums_list))\n",
    "print(\"\\nList of strings:\")\n",
    "print(result_list)"
   ]
  },
  {
   "cell_type": "code",
   "execution_count": 43,
   "id": "f29c3c7f-f862-482e-aec3-922016a9eabb",
   "metadata": {},
   "outputs": [],
   "source": [
    "##write a python program using reduce function to compute the product of a list containing numbers from 1 to 25."
   ]
  },
  {
   "cell_type": "code",
   "execution_count": 44,
   "id": "a71f174d-fb3e-45dd-8197-b1157fdd26ca",
   "metadata": {},
   "outputs": [],
   "source": [
    "from functools import reduce"
   ]
  },
  {
   "cell_type": "code",
   "execution_count": 45,
   "id": "d07557db-4273-42c4-b65a-d88dc7c7e536",
   "metadata": {},
   "outputs": [],
   "source": [
    "l = [1,2,3,4,5,6,7,8,9,10,11,12,13,14,15,16,17,18,19,20,21,23,24,25]"
   ]
  },
  {
   "cell_type": "code",
   "execution_count": 48,
   "id": "3dcc3029-b483-426e-958b-ee24188d7b36",
   "metadata": {},
   "outputs": [
    {
     "data": {
      "text/plain": [
       "303"
      ]
     },
     "execution_count": 48,
     "metadata": {},
     "output_type": "execute_result"
    }
   ],
   "source": [
    "reduce(lambda x,y : x+y, l)"
   ]
  },
  {
   "cell_type": "code",
   "execution_count": 49,
   "id": "0200b488-f31c-4c19-b392-061768b2f513",
   "metadata": {},
   "outputs": [
    {
     "data": {
      "text/plain": [
       "[2, 3, 6, 9, 27, 60, 90, 120, 55, 46]"
      ]
     },
     "execution_count": 49,
     "metadata": {},
     "output_type": "execute_result"
    }
   ],
   "source": [
    "##write a python program to filter the numbers in a given list that are divisible by 2 and 3 using the filter function.\n",
    "[2,3,6,9,27,60,90,120,55,46]"
   ]
  },
  {
   "cell_type": "code",
   "execution_count": 52,
   "id": "787fd6a4-c256-4aa2-849b-8fcc1b6e732f",
   "metadata": {},
   "outputs": [],
   "source": [
    "l = [2,3,6,9,27,60,90,120,55,46]"
   ]
  },
  {
   "cell_type": "code",
   "execution_count": 54,
   "id": "68ade783-04c4-4dc4-8f64-bd1f40187d8b",
   "metadata": {},
   "outputs": [
    {
     "data": {
      "text/plain": [
       "[2, 3, 6, 9, 27, 60, 90, 120, 55, 46]"
      ]
     },
     "execution_count": 54,
     "metadata": {},
     "output_type": "execute_result"
    }
   ],
   "source": [
    "l"
   ]
  },
  {
   "cell_type": "code",
   "execution_count": 60,
   "id": "15e6b5b5-975e-4170-8ebe-01ac0c793830",
   "metadata": {},
   "outputs": [
    {
     "data": {
      "text/plain": [
       "[2, 6, 60, 90, 120, 46]"
      ]
     },
     "execution_count": 60,
     "metadata": {},
     "output_type": "execute_result"
    }
   ],
   "source": [
    "list(filter(lambda x : x % 2 == 0, l ))"
   ]
  },
  {
   "cell_type": "code",
   "execution_count": 62,
   "id": "80870bdd-5460-45fd-b5d9-a287a612af9c",
   "metadata": {},
   "outputs": [
    {
     "data": {
      "text/plain": [
       "[2, 3, 6, 9, 27, 60, 90, 120, 55, 46]"
      ]
     },
     "execution_count": 62,
     "metadata": {},
     "output_type": "execute_result"
    }
   ],
   "source": [
    "l"
   ]
  },
  {
   "cell_type": "code",
   "execution_count": 63,
   "id": "03dcba55-dd7c-4d19-923b-f48e5c66271c",
   "metadata": {},
   "outputs": [
    {
     "data": {
      "text/plain": [
       "[3, 6, 9, 27, 60, 90, 120]"
      ]
     },
     "execution_count": 63,
     "metadata": {},
     "output_type": "execute_result"
    }
   ],
   "source": [
    "list(filter(lambda x : x % 3 == 0, l ))"
   ]
  },
  {
   "cell_type": "code",
   "execution_count": null,
   "id": "0444449f-d51f-4067-87fc-e30eeef09f7e",
   "metadata": {},
   "outputs": [],
   "source": [
    "##write a python to find to find palindromes in the given list of strings using lambda and filter function.\n",
    "\n",
    "['python','php','aba','radar','level']"
   ]
  },
  {
   "cell_type": "code",
   "execution_count": 64,
   "id": "3d4b3d84-3302-40f2-881c-457dca37eed9",
   "metadata": {},
   "outputs": [],
   "source": [
    "l2 = ['python','php','aba','radar','level']"
   ]
  },
  {
   "cell_type": "code",
   "execution_count": null,
   "id": "64106223-cecc-4da6-b594-f711a3ef9ce6",
   "metadata": {},
   "outputs": [],
   "source": [
    "list(filter(lambda x : len(x)))"
   ]
  }
 ],
 "metadata": {
  "kernelspec": {
   "display_name": "Python 3 (ipykernel)",
   "language": "python",
   "name": "python3"
  },
  "language_info": {
   "codemirror_mode": {
    "name": "ipython",
    "version": 3
   },
   "file_extension": ".py",
   "mimetype": "text/x-python",
   "name": "python",
   "nbconvert_exporter": "python",
   "pygments_lexer": "ipython3",
   "version": "3.10.6"
  }
 },
 "nbformat": 4,
 "nbformat_minor": 5
}
